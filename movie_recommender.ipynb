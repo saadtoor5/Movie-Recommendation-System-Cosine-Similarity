{
 "cells": [
  {
   "cell_type": "code",
   "execution_count": 2,
   "id": "927fdfb9",
   "metadata": {},
   "outputs": [],
   "source": [
    "#Importing Libraries\n",
    "import pandas as pd\n",
    "from sklearn.metrics.pairwise import cosine_similarity\n",
    "from sklearn.feature_extraction.text import TfidfVectorizer"
   ]
  },
  {
   "cell_type": "code",
   "execution_count": 3,
   "id": "91c820f0",
   "metadata": {},
   "outputs": [
    {
     "data": {
      "text/html": [
       "<div>\n",
       "<style scoped>\n",
       "    .dataframe tbody tr th:only-of-type {\n",
       "        vertical-align: middle;\n",
       "    }\n",
       "\n",
       "    .dataframe tbody tr th {\n",
       "        vertical-align: top;\n",
       "    }\n",
       "\n",
       "    .dataframe thead th {\n",
       "        text-align: right;\n",
       "    }\n",
       "</style>\n",
       "<table border=\"1\" class=\"dataframe\">\n",
       "  <thead>\n",
       "    <tr style=\"text-align: right;\">\n",
       "      <th></th>\n",
       "      <th>title</th>\n",
       "      <th>genre</th>\n",
       "    </tr>\n",
       "  </thead>\n",
       "  <tbody>\n",
       "    <tr>\n",
       "      <th>0</th>\n",
       "      <td>Super Me</td>\n",
       "      <td>fantasy</td>\n",
       "    </tr>\n",
       "    <tr>\n",
       "      <th>1</th>\n",
       "      <td>Entity Project</td>\n",
       "      <td>horror</td>\n",
       "    </tr>\n",
       "    <tr>\n",
       "      <th>2</th>\n",
       "      <td>Behavioral Family Therapy for Serious Psychiat...</td>\n",
       "      <td>family</td>\n",
       "    </tr>\n",
       "    <tr>\n",
       "      <th>3</th>\n",
       "      <td>Blood Glacier</td>\n",
       "      <td>scifi</td>\n",
       "    </tr>\n",
       "    <tr>\n",
       "      <th>4</th>\n",
       "      <td>Apat na anino</td>\n",
       "      <td>action</td>\n",
       "    </tr>\n",
       "  </tbody>\n",
       "</table>\n",
       "</div>"
      ],
      "text/plain": [
       "                                               title    genre\n",
       "0                                           Super Me  fantasy\n",
       "1                                     Entity Project   horror\n",
       "2  Behavioral Family Therapy for Serious Psychiat...   family\n",
       "3                                      Blood Glacier    scifi\n",
       "4                                      Apat na anino   action"
      ]
     },
     "execution_count": 3,
     "metadata": {},
     "output_type": "execute_result"
    }
   ],
   "source": [
    "# Dataset with genres \n",
    "data = pd.read_csv('movie_genre_dataset.csv')\n",
    "data.head()"
   ]
  },
  {
   "cell_type": "code",
   "execution_count": 4,
   "id": "103802a2",
   "metadata": {},
   "outputs": [],
   "source": [
    "#Define the TF-IDF Vectorizer to transform the genre text into vectors\n",
    "tfidf = TfidfVectorizer(stop_words='english')"
   ]
  },
  {
   "cell_type": "code",
   "execution_count": 5,
   "id": "ac41078e",
   "metadata": {},
   "outputs": [],
   "source": [
    "#Fit and transform the genre column into a matrix of TF-IDF Features\n",
    "tfidf_matrix = tfidf.fit_transform(data['genre'])"
   ]
  },
  {
   "cell_type": "code",
   "execution_count": 6,
   "id": "948e23b2",
   "metadata": {},
   "outputs": [],
   "source": [
    "#Compute the cosine similarity matrix\n",
    "cosine_sim = cosine_similarity(tfidf_matrix, tfidf_matrix)"
   ]
  },
  {
   "cell_type": "code",
   "execution_count": 7,
   "id": "072e662d",
   "metadata": {},
   "outputs": [],
   "source": [
    "# Function to recommend movies based on cosine similarity\n",
    "def get_recommendations(title, cosine_sim=cosine_sim, data=data):\n",
    "    # Convert movie titles to lowercase for case-insensitive match\n",
    "    title = title.lower()\n",
    "\n",
    "    # Match the input title with the dataset\n",
    "    matches = data[data['title'].str.lower() == title]\n",
    "\n",
    "    if matches.empty:\n",
    "        print(f\"\\n❌ No movie found with the title '{title}' in the dataset.\")\n",
    "        return []\n",
    "\n",
    "    # Get the index of the matched movie\n",
    "    idx = matches.index[0]\n",
    "\n",
    "    # Get pairwise similarity scores\n",
    "    sim_scores = list(enumerate(cosine_sim[idx]))\n",
    "\n",
    "    # Sort the scores and exclude the first one (which is the movie itself)\n",
    "    sim_scores = sorted(sim_scores, key=lambda x: x[1], reverse=True)[1:3]\n",
    "\n",
    "    # Get movie indices\n",
    "    movie_indices = [i[0] for i in sim_scores]\n",
    "\n",
    "    # Return the recommended movie titles\n",
    "    return data['title'].iloc[movie_indices].tolist()\n"
   ]
  },
  {
   "cell_type": "code",
   "execution_count": null,
   "id": "e199466f",
   "metadata": {},
   "outputs": [
    {
     "name": "stdout",
     "output_type": "stream",
     "text": [
      "\n",
      "🎬 Movies recommended for 'Women Are Angels':\n",
      " - Now, We're Going to Geneva\n",
      " - L.A. Love in 2020\n"
     ]
    }
   ],
   "source": [
    "#User Input\n",
    "movie_title = input(\"Enter a Movie title: \")\n",
    "recommended_movies = get_recommendations(movie_title)\n",
    "\n",
    "#Printing recomended movies\n",
    "if recommended_movies:\n",
    "    print(f\"\\n🎬 Movies recommended for '{movie_title}':\")\n",
    "    for movie in recommended_movies:\n",
    "        print(f\" - {movie}\")"
   ]
  }
 ],
 "metadata": {
  "kernelspec": {
   "display_name": "Python 3",
   "language": "python",
   "name": "python3"
  },
  "language_info": {
   "codemirror_mode": {
    "name": "ipython",
    "version": 3
   },
   "file_extension": ".py",
   "mimetype": "text/x-python",
   "name": "python",
   "nbconvert_exporter": "python",
   "pygments_lexer": "ipython3",
   "version": "3.13.3"
  }
 },
 "nbformat": 4,
 "nbformat_minor": 5
}
